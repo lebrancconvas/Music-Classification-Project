{
 "cells": [
  {
   "cell_type": "code",
   "execution_count": 4,
   "metadata": {},
   "outputs": [],
   "source": [
    "# Import Necessary Libraries and Packages. \n",
    "from python_speech_features import mfcc\n",
    "import scipy.io.wavfile as wav\n",
    "import numpy as np\n",
    "\n",
    "from tempfile import TemporaryFile\n",
    "\n",
    "import os\n",
    "import pickle\n",
    "import random\n",
    "import operator\n",
    "import math"
   ]
  },
  {
   "cell_type": "code",
   "execution_count": 6,
   "metadata": {},
   "outputs": [],
   "source": [
    "def get_neightbor(training_set, instance, k):\n",
    "  distances = []\n",
    "  for x in range(len(training_set)):\n",
    "    dist = distance(training_set[x], instance, k) + distance(instance, training_set[x], k)\n",
    "    distances.append((training_set[x], dist))\n",
    "  distances.sort(key=operator.itemgetter(1)) \n",
    "  neightbors = []\n",
    "  for x in range(k):\n",
    "    neightbors.append(distances[x][0])\n",
    "  return neightbors"
   ]
  },
  {
   "cell_type": "code",
   "execution_count": 8,
   "metadata": {},
   "outputs": [],
   "source": [
    "def nearest_class(neightbors):\n",
    "  class_vote = {}\n",
    "  for x in range(len(neightbors)):\n",
    "    response = neightbors[x]\n",
    "    if response in class_vote:\n",
    "      class_vote[response] += 1\n",
    "    else:\n",
    "      class_vote[response] = 1\n",
    "  \n",
    "  sorter = sorted(class_vote.items(), key=operator.itemgetter(1), reverse=True) \n",
    "  \n",
    "  return sorter[0][0] "
   ]
  }
 ],
 "metadata": {
  "interpreter": {
   "hash": "af79604d8e184c3ef00903d08fc3dd6669cfb685853d271eb88e3d50270d87f9"
  },
  "kernelspec": {
   "display_name": "Python 3.8.8 ('base')",
   "language": "python",
   "name": "python3"
  },
  "language_info": {
   "codemirror_mode": {
    "name": "ipython",
    "version": 3
   },
   "file_extension": ".py",
   "mimetype": "text/x-python",
   "name": "python",
   "nbconvert_exporter": "python",
   "pygments_lexer": "ipython3",
   "version": "3.8.8"
  },
  "orig_nbformat": 4
 },
 "nbformat": 4,
 "nbformat_minor": 2
}
